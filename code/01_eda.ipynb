{
 "cells": [
  {
   "cell_type": "markdown",
   "id": "898e5edd",
   "metadata": {},
   "source": [
    "# Tour De France Exploration"
   ]
  },
  {
   "cell_type": "code",
   "execution_count": 1,
   "id": "b73f88e7",
   "metadata": {},
   "outputs": [],
   "source": [
    "import pandas as pd\n",
    "import numpy as np\n",
    "import altair as alt"
   ]
  },
  {
   "cell_type": "code",
   "execution_count": 2,
   "id": "67910b87",
   "metadata": {},
   "outputs": [],
   "source": [
    "df = pd.read_csv(\"https://raw.githubusercontent.com/camminady/LeTourDataSet/master/data/TDF_Riders_History.csv\")"
   ]
  },
  {
   "cell_type": "code",
   "execution_count": 3,
   "id": "cd75aa4b",
   "metadata": {},
   "outputs": [],
   "source": [
    "df = df.drop(columns = ['Unnamed: 0'])"
   ]
  },
  {
   "cell_type": "markdown",
   "id": "c464d386",
   "metadata": {},
   "source": [
    "## Correct Known Issues\n",
    "\n",
    "See issues on data set repository"
   ]
  },
  {
   "cell_type": "code",
   "execution_count": 4,
   "id": "642b8f57",
   "metadata": {},
   "outputs": [],
   "source": [
    "df.loc[(df['Year'] == 1997) & (df['Rider'] == 'MARCO PANTANI'), 'Times'] = '''100h 44' 3\"'''\n",
    "df.loc[(df['Year'] == 1997) & (df['Rider'] == 'MARCO PANTANI'), 'Total Seconds'] = 360839"
   ]
  },
  {
   "cell_type": "code",
   "execution_count": 5,
   "id": "c2b17ad2",
   "metadata": {},
   "outputs": [],
   "source": [
    "df.loc[(df['Year'] == 1981) & (df['Rider'] == 'BERNARD HINAULT'), 'Times'] = '''96h 19' 38\"'''\n",
    "df.loc[(df['Year'] == 1981) & (df['Rider'] == 'BERNARD HINAULT'), 'Total Seconds'] = 346778"
   ]
  },
  {
   "cell_type": "code",
   "execution_count": 18,
   "id": "0dd64f4f",
   "metadata": {},
   "outputs": [],
   "source": [
    "# save for re-use\n",
    "gaps_df.to_csv('../data/tdf_cleaned.csv', index = False)"
   ]
  },
  {
   "cell_type": "markdown",
   "id": "f984b832",
   "metadata": {},
   "source": [
    "## Winning Time"
   ]
  },
  {
   "cell_type": "code",
   "execution_count": 7,
   "id": "f542e0e1",
   "metadata": {},
   "outputs": [],
   "source": [
    "gaps_df = df[df['Rank'] == 2][['Year', 'GapSeconds']]"
   ]
  },
  {
   "cell_type": "code",
   "execution_count": 8,
   "id": "b9d41e5c",
   "metadata": {},
   "outputs": [],
   "source": [
    "gaps_df['3 Year Rolling Average'] = gaps_df['GapSeconds'].rolling(window = 3).mean()\n",
    "gaps_df['5 Year Rolling Average'] = gaps_df['GapSeconds'].rolling(window = 5).mean()"
   ]
  },
  {
   "cell_type": "markdown",
   "id": "d305d149",
   "metadata": {},
   "source": [
    "Add null values for years the tour wasn't held"
   ]
  },
  {
   "cell_type": "code",
   "execution_count": 9,
   "id": "8b81247c",
   "metadata": {},
   "outputs": [],
   "source": [
    "ww2_gap = pd.DataFrame(data = {'Year': [i for i in range(1940, 1947)], \n",
    "                               'GapSeconds':[None, None, None, None, None, None, None]})"
   ]
  },
  {
   "cell_type": "code",
   "execution_count": 10,
   "id": "994fd6fb",
   "metadata": {},
   "outputs": [],
   "source": [
    "gaps_df = pd.concat([gaps_df, ww2_gap])"
   ]
  },
  {
   "cell_type": "markdown",
   "id": "adc399f0",
   "metadata": {},
   "source": [
    "Melt for easy plotting"
   ]
  },
  {
   "cell_type": "code",
   "execution_count": 11,
   "id": "4e539940",
   "metadata": {},
   "outputs": [],
   "source": [
    "gaps_df = gaps_df.rename(columns = {'GapSeconds': 'Winning Time Gap'})\n",
    "gaps_df = pd.melt(gaps_df, id_vars = ['Year'], \n",
    "                  value_vars = ['Winning Time Gap', '3 Year Rolling Average', '5 Year Rolling Average'])"
   ]
  },
  {
   "cell_type": "code",
   "execution_count": 12,
   "id": "a507e706",
   "metadata": {},
   "outputs": [],
   "source": [
    "gaps_df.columns = ['Year', 'Measure', 'Val']"
   ]
  },
  {
   "cell_type": "code",
   "execution_count": 13,
   "id": "a57b8e1a",
   "metadata": {},
   "outputs": [],
   "source": [
    "gaps_rect = pd.DataFrame({'x1': [1940], 'x2': [1947], 'y1': [0], 'y2': [11000]})"
   ]
  },
  {
   "cell_type": "code",
   "execution_count": 14,
   "id": "38128d0e",
   "metadata": {},
   "outputs": [],
   "source": [
    "ww2_gap = alt.Chart(gaps_rect).mark_rect(\n",
    "    fill = 'lightgray', \n",
    "    opacity = 0.5, \n",
    "    width = 7\n",
    ").encode(\n",
    "                x = alt.X('x1', scale = alt.Scale(domain = [1900, 2023])), \n",
    "                x2 = 'x2', \n",
    "                y = alt.Y('y1', scale = alt.Scale(domain = [0, 11000])), \n",
    "                y2 = 'y2'\n",
    "            )"
   ]
  },
  {
   "cell_type": "code",
   "execution_count": 54,
   "id": "ee369091",
   "metadata": {},
   "outputs": [],
   "source": [
    "base = alt.Chart(gaps_df).mark_line(\n",
    "    size = 2\n",
    ").encode(\n",
    "    x = alt.X('Year:Q', \n",
    "              axis = alt.Axis(title = 'Year', titleFontSize = 15, format = '4f',\n",
    "                              tickCount = round(gaps_df['Year'].nunique() / 4)), \n",
    "                              scale = alt.Scale(domain = [1900, 2025])), \n",
    "    y = alt.Y('Val', axis = alt.Axis(title = 'Time Gap', titleFontSize = 15, format = '1f')), \n",
    "    color = alt.Color('Measure', legend = alt.Legend(title = 'Metric')), \n",
    "    tooltip = [alt.Tooltip('Year'), alt.Tooltip('Measure', title = 'Measure'), alt.Tooltip('Val', title = 'Value')]\n",
    ")"
   ]
  },
  {
   "cell_type": "code",
   "execution_count": 77,
   "id": "d42f104a",
   "metadata": {},
   "outputs": [],
   "source": [
    "tooltips = alt.Chart(gaps_df).mark_line(\n",
    "    strokeWidth = 30, \n",
    "    opacity = 0.01\n",
    ").encode(\n",
    "    x = alt.X('Year:Q'),\n",
    "    y = alt.Y('Val'), \n",
    "    color = alt.Color('Measure', legend = None),\n",
    "    tooltip = [alt.Tooltip('Year'), alt.Tooltip('Measure', title = 'Measure'), alt.Tooltip('Val', title = 'Value')]\n",
    ")"
   ]
  },
  {
   "cell_type": "code",
   "execution_count": 78,
   "id": "bbf2f2d4",
   "metadata": {},
   "outputs": [],
   "source": [
    "\n",
    "c = alt.layer(base, tooltips)"
   ]
  },
  {
   "cell_type": "code",
   "execution_count": 79,
   "id": "a7ae77a1",
   "metadata": {},
   "outputs": [
    {
     "data": {
      "text/html": [
       "\n",
       "<style>\n",
       "  #altair-viz-2250c2dba3c54e44a7ce03c4699764b0.vega-embed {\n",
       "    width: 100%;\n",
       "    display: flex;\n",
       "  }\n",
       "\n",
       "  #altair-viz-2250c2dba3c54e44a7ce03c4699764b0.vega-embed details,\n",
       "  #altair-viz-2250c2dba3c54e44a7ce03c4699764b0.vega-embed details summary {\n",
       "    position: relative;\n",
       "  }\n",
       "</style>\n",
       "<div id=\"altair-viz-2250c2dba3c54e44a7ce03c4699764b0\"></div>\n",
       "<script type=\"text/javascript\">\n",
       "  var VEGA_DEBUG = (typeof VEGA_DEBUG == \"undefined\") ? {} : VEGA_DEBUG;\n",
       "  (function(spec, embedOpt){\n",
       "    let outputDiv = document.currentScript.previousElementSibling;\n",
       "    if (outputDiv.id !== \"altair-viz-2250c2dba3c54e44a7ce03c4699764b0\") {\n",
       "      outputDiv = document.getElementById(\"altair-viz-2250c2dba3c54e44a7ce03c4699764b0\");\n",
       "    }\n",
       "    const paths = {\n",
       "      \"vega\": \"https://cdn.jsdelivr.net/npm/vega@5?noext\",\n",
       "      \"vega-lib\": \"https://cdn.jsdelivr.net/npm/vega-lib?noext\",\n",
       "      \"vega-lite\": \"https://cdn.jsdelivr.net/npm/vega-lite@5.17.0?noext\",\n",
       "      \"vega-embed\": \"https://cdn.jsdelivr.net/npm/vega-embed@6?noext\",\n",
       "    };\n",
       "\n",
       "    function maybeLoadScript(lib, version) {\n",
       "      var key = `${lib.replace(\"-\", \"\")}_version`;\n",
       "      return (VEGA_DEBUG[key] == version) ?\n",
       "        Promise.resolve(paths[lib]) :\n",
       "        new Promise(function(resolve, reject) {\n",
       "          var s = document.createElement('script');\n",
       "          document.getElementsByTagName(\"head\")[0].appendChild(s);\n",
       "          s.async = true;\n",
       "          s.onload = () => {\n",
       "            VEGA_DEBUG[key] = version;\n",
       "            return resolve(paths[lib]);\n",
       "          };\n",
       "          s.onerror = () => reject(`Error loading script: ${paths[lib]}`);\n",
       "          s.src = paths[lib];\n",
       "        });\n",
       "    }\n",
       "\n",
       "    function showError(err) {\n",
       "      outputDiv.innerHTML = `<div class=\"error\" style=\"color:red;\">${err}</div>`;\n",
       "      throw err;\n",
       "    }\n",
       "\n",
       "    function displayChart(vegaEmbed) {\n",
       "      vegaEmbed(outputDiv, spec, embedOpt)\n",
       "        .catch(err => showError(`Javascript Error: ${err.message}<br>This usually means there's a typo in your chart specification. See the javascript console for the full traceback.`));\n",
       "    }\n",
       "\n",
       "    if(typeof define === \"function\" && define.amd) {\n",
       "      requirejs.config({paths});\n",
       "      require([\"vega-embed\"], displayChart, err => showError(`Error loading script: ${err.message}`));\n",
       "    } else {\n",
       "      maybeLoadScript(\"vega\", \"5\")\n",
       "        .then(() => maybeLoadScript(\"vega-lite\", \"5.17.0\"))\n",
       "        .then(() => maybeLoadScript(\"vega-embed\", \"6\"))\n",
       "        .catch(showError)\n",
       "        .then(() => displayChart(vegaEmbed));\n",
       "    }\n",
       "  })({\"config\": {\"view\": {\"continuousWidth\": 300, \"continuousHeight\": 300}}, \"layer\": [{\"layer\": [{\"mark\": {\"type\": \"line\", \"size\": 2}, \"encoding\": {\"color\": {\"field\": \"Measure\", \"legend\": {\"title\": \"Metric\"}, \"type\": \"nominal\"}, \"tooltip\": [{\"field\": \"Year\", \"type\": \"quantitative\"}, {\"field\": \"Measure\", \"title\": \"Measure\", \"type\": \"nominal\"}, {\"field\": \"Val\", \"title\": \"Value\", \"type\": \"quantitative\"}], \"x\": {\"axis\": {\"format\": \"4f\", \"tickCount\": 29, \"title\": \"Year\", \"titleFontSize\": 15}, \"field\": \"Year\", \"scale\": {\"domain\": [1900, 2025]}, \"type\": \"quantitative\"}, \"y\": {\"axis\": {\"format\": \"1f\", \"title\": \"Time Gap\", \"titleFontSize\": 15}, \"field\": \"Val\", \"type\": \"quantitative\"}}, \"name\": \"view_20\"}, {\"mark\": {\"type\": \"line\", \"opacity\": 0.01, \"strokeWidth\": 30}, \"encoding\": {\"color\": {\"field\": \"Measure\", \"legend\": null, \"type\": \"nominal\"}, \"tooltip\": [{\"field\": \"Year\", \"type\": \"quantitative\"}, {\"field\": \"Measure\", \"title\": \"Measure\", \"type\": \"nominal\"}, {\"field\": \"Val\", \"title\": \"Value\", \"type\": \"quantitative\"}], \"x\": {\"field\": \"Year\", \"type\": \"quantitative\"}, \"y\": {\"field\": \"Val\", \"type\": \"quantitative\"}}}], \"data\": {\"name\": \"data-3bd49dba47e7901f2b22fcc0aaf6468e\"}}, {\"data\": {\"name\": \"data-d1332f38927d048cb2486196f2f37ab8\"}, \"mark\": {\"type\": \"rect\", \"fill\": \"lightgray\", \"opacity\": 0.5, \"width\": 7}, \"encoding\": {\"x\": {\"field\": \"x1\", \"scale\": {\"domain\": [1900, 2023]}, \"type\": \"quantitative\"}, \"x2\": {\"field\": \"x2\"}, \"y\": {\"field\": \"y1\", \"scale\": {\"domain\": [0, 11000]}, \"type\": \"quantitative\"}, \"y2\": {\"field\": \"y2\"}}}], \"height\": 400, \"params\": [{\"name\": \"param_20\", \"select\": {\"type\": \"interval\", \"encodings\": [\"x\", \"y\"]}, \"bind\": \"scales\", \"views\": [\"view_20\"]}], \"title\": {\"text\": \"The Tour de France winning time gap has decreased over time\", \"dx\": 10, \"fontSize\": 25}, \"width\": 800, \"$schema\": \"https://vega.github.io/schema/vega-lite/v5.17.0.json\", \"datasets\": {\"data-3bd49dba47e7901f2b22fcc0aaf6468e\": [{\"Year\": 1903, \"Measure\": \"Winning Time Gap\", \"Val\": 10761.0}, {\"Year\": 1904, \"Measure\": \"Winning Time Gap\", \"Val\": 8174.0}, {\"Year\": 1905, \"Measure\": \"Winning Time Gap\", \"Val\": 0.0}, {\"Year\": 1906, \"Measure\": \"Winning Time Gap\", \"Val\": 0.0}, {\"Year\": 1907, \"Measure\": \"Winning Time Gap\", \"Val\": 0.0}, {\"Year\": 1908, \"Measure\": \"Winning Time Gap\", \"Val\": 0.0}, {\"Year\": 1909, \"Measure\": \"Winning Time Gap\", \"Val\": 0.0}, {\"Year\": 1910, \"Measure\": \"Winning Time Gap\", \"Val\": 0.0}, {\"Year\": 1911, \"Measure\": \"Winning Time Gap\", \"Val\": 0.0}, {\"Year\": 1912, \"Measure\": \"Winning Time Gap\", \"Val\": 0.0}, {\"Year\": 1913, \"Measure\": \"Winning Time Gap\", \"Val\": 517.0}, {\"Year\": 1914, \"Measure\": \"Winning Time Gap\", \"Val\": 110.0}, {\"Year\": 1919, \"Measure\": \"Winning Time Gap\", \"Val\": 6174.0}, {\"Year\": 1920, \"Measure\": \"Winning Time Gap\", \"Val\": 3441.0}, {\"Year\": 1921, \"Measure\": \"Winning Time Gap\", \"Val\": 1116.0}, {\"Year\": 1922, \"Measure\": \"Winning Time Gap\", \"Val\": 2475.0}, {\"Year\": 1923, \"Measure\": \"Winning Time Gap\", \"Val\": 1841.0}, {\"Year\": 1924, \"Measure\": \"Winning Time Gap\", \"Val\": 2136.0}, {\"Year\": 1925, \"Measure\": \"Winning Time Gap\", \"Val\": 3260.0}, {\"Year\": 1926, \"Measure\": \"Winning Time Gap\", \"Val\": 4945.0}, {\"Year\": 1927, \"Measure\": \"Winning Time Gap\", \"Val\": 6501.0}, {\"Year\": 1928, \"Measure\": \"Winning Time Gap\", \"Val\": 3007.0}, {\"Year\": 1929, \"Measure\": \"Winning Time Gap\", \"Val\": 2663.0}, {\"Year\": 1930, \"Measure\": \"Winning Time Gap\", \"Val\": 853.0}, {\"Year\": 1931, \"Measure\": \"Winning Time Gap\", \"Val\": 776.0}, {\"Year\": 1932, \"Measure\": \"Winning Time Gap\", \"Val\": 1443.0}, {\"Year\": 1933, \"Measure\": \"Winning Time Gap\", \"Val\": 241.0}, {\"Year\": 1934, \"Measure\": \"Winning Time Gap\", \"Val\": 1651.0}, {\"Year\": 1935, \"Measure\": \"Winning Time Gap\", \"Val\": 1072.0}, {\"Year\": 1936, \"Measure\": \"Winning Time Gap\", \"Val\": 1615.0}, {\"Year\": 1937, \"Measure\": \"Winning Time Gap\", \"Val\": 437.0}, {\"Year\": 1938, \"Measure\": \"Winning Time Gap\", \"Val\": 1107.0}, {\"Year\": 1939, \"Measure\": \"Winning Time Gap\", \"Val\": 1838.0}, {\"Year\": 1947, \"Measure\": \"Winning Time Gap\", \"Val\": 238.0}, {\"Year\": 1948, \"Measure\": \"Winning Time Gap\", \"Val\": 1612.0}, {\"Year\": 1949, \"Measure\": \"Winning Time Gap\", \"Val\": 655.0}, {\"Year\": 1950, \"Measure\": \"Winning Time Gap\", \"Val\": 570.0}, {\"Year\": 1951, \"Measure\": \"Winning Time Gap\", \"Val\": 1320.0}, {\"Year\": 1952, \"Measure\": \"Winning Time Gap\", \"Val\": 1697.0}, {\"Year\": 1953, \"Measure\": \"Winning Time Gap\", \"Val\": 858.0}, {\"Year\": 1954, \"Measure\": \"Winning Time Gap\", \"Val\": 949.0}, {\"Year\": 1955, \"Measure\": \"Winning Time Gap\", \"Val\": 293.0}, {\"Year\": 1956, \"Measure\": \"Winning Time Gap\", \"Val\": 85.0}, {\"Year\": 1957, \"Measure\": \"Winning Time Gap\", \"Val\": 896.0}, {\"Year\": 1958, \"Measure\": \"Winning Time Gap\", \"Val\": 190.0}, {\"Year\": 1959, \"Measure\": \"Winning Time Gap\", \"Val\": 241.0}, {\"Year\": 1960, \"Measure\": \"Winning Time Gap\", \"Val\": 302.0}, {\"Year\": 1961, \"Measure\": \"Winning Time Gap\", \"Val\": 734.0}, {\"Year\": 1962, \"Measure\": \"Winning Time Gap\", \"Val\": 299.0}, {\"Year\": 1963, \"Measure\": \"Winning Time Gap\", \"Val\": 215.0}, {\"Year\": 1964, \"Measure\": \"Winning Time Gap\", \"Val\": 55.0}, {\"Year\": 1965, \"Measure\": \"Winning Time Gap\", \"Val\": 160.0}, {\"Year\": 1966, \"Measure\": \"Winning Time Gap\", \"Val\": 67.0}, {\"Year\": 1967, \"Measure\": \"Winning Time Gap\", \"Val\": 220.0}, {\"Year\": 1968, \"Measure\": \"Winning Time Gap\", \"Val\": 38.0}, {\"Year\": 1969, \"Measure\": \"Winning Time Gap\", \"Val\": 1074.0}, {\"Year\": 1970, \"Measure\": \"Winning Time Gap\", \"Val\": 761.0}, {\"Year\": 1971, \"Measure\": \"Winning Time Gap\", \"Val\": 591.0}, {\"Year\": 1972, \"Measure\": \"Winning Time Gap\", \"Val\": 641.0}, {\"Year\": 1973, \"Measure\": \"Winning Time Gap\", \"Val\": 951.0}, {\"Year\": 1974, \"Measure\": \"Winning Time Gap\", \"Val\": 484.0}, {\"Year\": 1975, \"Measure\": \"Winning Time Gap\", \"Val\": 167.0}, {\"Year\": 1976, \"Measure\": \"Winning Time Gap\", \"Val\": 254.0}, {\"Year\": 1977, \"Measure\": \"Winning Time Gap\", \"Val\": 48.0}, {\"Year\": 1978, \"Measure\": \"Winning Time Gap\", \"Val\": 236.0}, {\"Year\": 1979, \"Measure\": \"Winning Time Gap\", \"Val\": 787.0}, {\"Year\": 1980, \"Measure\": \"Winning Time Gap\", \"Val\": 415.0}, {\"Year\": 1981, \"Measure\": \"Winning Time Gap\", \"Val\": 874.0}, {\"Year\": 1982, \"Measure\": \"Winning Time Gap\", \"Val\": 381.0}, {\"Year\": 1983, \"Measure\": \"Winning Time Gap\", \"Val\": 244.0}, {\"Year\": 1984, \"Measure\": \"Winning Time Gap\", \"Val\": 632.0}, {\"Year\": 1985, \"Measure\": \"Winning Time Gap\", \"Val\": 102.0}, {\"Year\": 1986, \"Measure\": \"Winning Time Gap\", \"Val\": 190.0}, {\"Year\": 1987, \"Measure\": \"Winning Time Gap\", \"Val\": 40.0}, {\"Year\": 1988, \"Measure\": \"Winning Time Gap\", \"Val\": 433.0}, {\"Year\": 1989, \"Measure\": \"Winning Time Gap\", \"Val\": 8.0}, {\"Year\": 1990, \"Measure\": \"Winning Time Gap\", \"Val\": 136.0}, {\"Year\": 1991, \"Measure\": \"Winning Time Gap\", \"Val\": 216.0}, {\"Year\": 1992, \"Measure\": \"Winning Time Gap\", \"Val\": 275.0}, {\"Year\": 1993, \"Measure\": \"Winning Time Gap\", \"Val\": 299.0}, {\"Year\": 1994, \"Measure\": \"Winning Time Gap\", \"Val\": 339.0}, {\"Year\": 1995, \"Measure\": \"Winning Time Gap\", \"Val\": 275.0}, {\"Year\": 1996, \"Measure\": \"Winning Time Gap\", \"Val\": 101.0}, {\"Year\": 1997, \"Measure\": \"Winning Time Gap\", \"Val\": 549.0}, {\"Year\": 1998, \"Measure\": \"Winning Time Gap\", \"Val\": 201.0}, {\"Year\": 1999, \"Measure\": \"Winning Time Gap\", \"Val\": 457.0}, {\"Year\": 2000, \"Measure\": \"Winning Time Gap\", \"Val\": 362.0}, {\"Year\": 2001, \"Measure\": \"Winning Time Gap\", \"Val\": 404.0}, {\"Year\": 2002, \"Measure\": \"Winning Time Gap\", \"Val\": 437.0}, {\"Year\": 2003, \"Measure\": \"Winning Time Gap\", \"Val\": 61.0}, {\"Year\": 2004, \"Measure\": \"Winning Time Gap\", \"Val\": 379.0}, {\"Year\": 2005, \"Measure\": \"Winning Time Gap\", \"Val\": 280.0}, {\"Year\": 2006, \"Measure\": \"Winning Time Gap\", \"Val\": 32.0}, {\"Year\": 2007, \"Measure\": \"Winning Time Gap\", \"Val\": 23.0}, {\"Year\": 2008, \"Measure\": \"Winning Time Gap\", \"Val\": 58.0}, {\"Year\": 2009, \"Measure\": \"Winning Time Gap\", \"Val\": 251.0}, {\"Year\": 2010, \"Measure\": \"Winning Time Gap\", \"Val\": 181.0}, {\"Year\": 2011, \"Measure\": \"Winning Time Gap\", \"Val\": 94.0}, {\"Year\": 2012, \"Measure\": \"Winning Time Gap\", \"Val\": 201.0}, {\"Year\": 2013, \"Measure\": \"Winning Time Gap\", \"Val\": 260.0}, {\"Year\": 2014, \"Measure\": \"Winning Time Gap\", \"Val\": 457.0}, {\"Year\": 2015, \"Measure\": \"Winning Time Gap\", \"Val\": 72.0}, {\"Year\": 2016, \"Measure\": \"Winning Time Gap\", \"Val\": 245.0}, {\"Year\": 2017, \"Measure\": \"Winning Time Gap\", \"Val\": 54.0}, {\"Year\": 2018, \"Measure\": \"Winning Time Gap\", \"Val\": 111.0}, {\"Year\": 2019, \"Measure\": \"Winning Time Gap\", \"Val\": 71.0}, {\"Year\": 2020, \"Measure\": \"Winning Time Gap\", \"Val\": 59.0}, {\"Year\": 2021, \"Measure\": \"Winning Time Gap\", \"Val\": 320.0}, {\"Year\": 2022, \"Measure\": \"Winning Time Gap\", \"Val\": 163.0}, {\"Year\": 2023, \"Measure\": \"Winning Time Gap\", \"Val\": 449.0}, {\"Year\": 1940, \"Measure\": \"Winning Time Gap\", \"Val\": NaN}, {\"Year\": 1941, \"Measure\": \"Winning Time Gap\", \"Val\": NaN}, {\"Year\": 1942, \"Measure\": \"Winning Time Gap\", \"Val\": NaN}, {\"Year\": 1943, \"Measure\": \"Winning Time Gap\", \"Val\": NaN}, {\"Year\": 1944, \"Measure\": \"Winning Time Gap\", \"Val\": NaN}, {\"Year\": 1945, \"Measure\": \"Winning Time Gap\", \"Val\": NaN}, {\"Year\": 1946, \"Measure\": \"Winning Time Gap\", \"Val\": NaN}, {\"Year\": 1903, \"Measure\": \"3 Year Rolling Average\", \"Val\": NaN}, {\"Year\": 1904, \"Measure\": \"3 Year Rolling Average\", \"Val\": NaN}, {\"Year\": 1905, \"Measure\": \"3 Year Rolling Average\", \"Val\": 6311.666666666667}, {\"Year\": 1906, \"Measure\": \"3 Year Rolling Average\", \"Val\": 2724.6666666666665}, {\"Year\": 1907, \"Measure\": \"3 Year Rolling Average\", \"Val\": 0.0}, {\"Year\": 1908, \"Measure\": \"3 Year Rolling Average\", \"Val\": 0.0}, {\"Year\": 1909, \"Measure\": \"3 Year Rolling Average\", \"Val\": 0.0}, {\"Year\": 1910, \"Measure\": \"3 Year Rolling Average\", \"Val\": 0.0}, {\"Year\": 1911, \"Measure\": \"3 Year Rolling Average\", \"Val\": 0.0}, {\"Year\": 1912, \"Measure\": \"3 Year Rolling Average\", \"Val\": 0.0}, {\"Year\": 1913, \"Measure\": \"3 Year Rolling Average\", \"Val\": 172.33333333333334}, {\"Year\": 1914, \"Measure\": \"3 Year Rolling Average\", \"Val\": 209.0}, {\"Year\": 1919, \"Measure\": \"3 Year Rolling Average\", \"Val\": 2267.0}, {\"Year\": 1920, \"Measure\": \"3 Year Rolling Average\", \"Val\": 3241.6666666666665}, {\"Year\": 1921, \"Measure\": \"3 Year Rolling Average\", \"Val\": 3577.0}, {\"Year\": 1922, \"Measure\": \"3 Year Rolling Average\", \"Val\": 2344.0}, {\"Year\": 1923, \"Measure\": \"3 Year Rolling Average\", \"Val\": 1810.6666666666667}, {\"Year\": 1924, \"Measure\": \"3 Year Rolling Average\", \"Val\": 2150.6666666666665}, {\"Year\": 1925, \"Measure\": \"3 Year Rolling Average\", \"Val\": 2412.3333333333335}, {\"Year\": 1926, \"Measure\": \"3 Year Rolling Average\", \"Val\": 3447.0}, {\"Year\": 1927, \"Measure\": \"3 Year Rolling Average\", \"Val\": 4902.0}, {\"Year\": 1928, \"Measure\": \"3 Year Rolling Average\", \"Val\": 4817.666666666667}, {\"Year\": 1929, \"Measure\": \"3 Year Rolling Average\", \"Val\": 4057.0}, {\"Year\": 1930, \"Measure\": \"3 Year Rolling Average\", \"Val\": 2174.3333333333335}, {\"Year\": 1931, \"Measure\": \"3 Year Rolling Average\", \"Val\": 1430.6666666666667}, {\"Year\": 1932, \"Measure\": \"3 Year Rolling Average\", \"Val\": 1024.0}, {\"Year\": 1933, \"Measure\": \"3 Year Rolling Average\", \"Val\": 820.0}, {\"Year\": 1934, \"Measure\": \"3 Year Rolling Average\", \"Val\": 1111.6666666666667}, {\"Year\": 1935, \"Measure\": \"3 Year Rolling Average\", \"Val\": 988.0}, {\"Year\": 1936, \"Measure\": \"3 Year Rolling Average\", \"Val\": 1446.0}, {\"Year\": 1937, \"Measure\": \"3 Year Rolling Average\", \"Val\": 1041.3333333333333}, {\"Year\": 1938, \"Measure\": \"3 Year Rolling Average\", \"Val\": 1053.0}, {\"Year\": 1939, \"Measure\": \"3 Year Rolling Average\", \"Val\": 1127.3333333333333}, {\"Year\": 1947, \"Measure\": \"3 Year Rolling Average\", \"Val\": 1061.0}, {\"Year\": 1948, \"Measure\": \"3 Year Rolling Average\", \"Val\": 1229.3333333333333}, {\"Year\": 1949, \"Measure\": \"3 Year Rolling Average\", \"Val\": 835.0}, {\"Year\": 1950, \"Measure\": \"3 Year Rolling Average\", \"Val\": 945.6666666666666}, {\"Year\": 1951, \"Measure\": \"3 Year Rolling Average\", \"Val\": 848.3333333333334}, {\"Year\": 1952, \"Measure\": \"3 Year Rolling Average\", \"Val\": 1195.6666666666667}, {\"Year\": 1953, \"Measure\": \"3 Year Rolling Average\", \"Val\": 1291.6666666666667}, {\"Year\": 1954, \"Measure\": \"3 Year Rolling Average\", \"Val\": 1168.0}, {\"Year\": 1955, \"Measure\": \"3 Year Rolling Average\", \"Val\": 700.0}, {\"Year\": 1956, \"Measure\": \"3 Year Rolling Average\", \"Val\": 442.3333333333333}, {\"Year\": 1957, \"Measure\": \"3 Year Rolling Average\", \"Val\": 424.6666666666667}, {\"Year\": 1958, \"Measure\": \"3 Year Rolling Average\", \"Val\": 390.3333333333333}, {\"Year\": 1959, \"Measure\": \"3 Year Rolling Average\", \"Val\": 442.3333333333333}, {\"Year\": 1960, \"Measure\": \"3 Year Rolling Average\", \"Val\": 244.33333333333334}, {\"Year\": 1961, \"Measure\": \"3 Year Rolling Average\", \"Val\": 425.6666666666667}, {\"Year\": 1962, \"Measure\": \"3 Year Rolling Average\", \"Val\": 445.0}, {\"Year\": 1963, \"Measure\": \"3 Year Rolling Average\", \"Val\": 416.0}, {\"Year\": 1964, \"Measure\": \"3 Year Rolling Average\", \"Val\": 189.66666666666666}, {\"Year\": 1965, \"Measure\": \"3 Year Rolling Average\", \"Val\": 143.33333333333334}, {\"Year\": 1966, \"Measure\": \"3 Year Rolling Average\", \"Val\": 94.0}, {\"Year\": 1967, \"Measure\": \"3 Year Rolling Average\", \"Val\": 149.0}, {\"Year\": 1968, \"Measure\": \"3 Year Rolling Average\", \"Val\": 108.33333333333333}, {\"Year\": 1969, \"Measure\": \"3 Year Rolling Average\", \"Val\": 444.0}, {\"Year\": 1970, \"Measure\": \"3 Year Rolling Average\", \"Val\": 624.3333333333334}, {\"Year\": 1971, \"Measure\": \"3 Year Rolling Average\", \"Val\": 808.6666666666666}, {\"Year\": 1972, \"Measure\": \"3 Year Rolling Average\", \"Val\": 664.3333333333334}, {\"Year\": 1973, \"Measure\": \"3 Year Rolling Average\", \"Val\": 727.6666666666666}, {\"Year\": 1974, \"Measure\": \"3 Year Rolling Average\", \"Val\": 692.0}, {\"Year\": 1975, \"Measure\": \"3 Year Rolling Average\", \"Val\": 534.0}, {\"Year\": 1976, \"Measure\": \"3 Year Rolling Average\", \"Val\": 301.6666666666667}, {\"Year\": 1977, \"Measure\": \"3 Year Rolling Average\", \"Val\": 156.33333333333334}, {\"Year\": 1978, \"Measure\": \"3 Year Rolling Average\", \"Val\": 179.33333333333334}, {\"Year\": 1979, \"Measure\": \"3 Year Rolling Average\", \"Val\": 357.0}, {\"Year\": 1980, \"Measure\": \"3 Year Rolling Average\", \"Val\": 479.3333333333333}, {\"Year\": 1981, \"Measure\": \"3 Year Rolling Average\", \"Val\": 692.0}, {\"Year\": 1982, \"Measure\": \"3 Year Rolling Average\", \"Val\": 556.6666666666666}, {\"Year\": 1983, \"Measure\": \"3 Year Rolling Average\", \"Val\": 499.6666666666667}, {\"Year\": 1984, \"Measure\": \"3 Year Rolling Average\", \"Val\": 419.0}, {\"Year\": 1985, \"Measure\": \"3 Year Rolling Average\", \"Val\": 326.0}, {\"Year\": 1986, \"Measure\": \"3 Year Rolling Average\", \"Val\": 308.0}, {\"Year\": 1987, \"Measure\": \"3 Year Rolling Average\", \"Val\": 110.66666666666667}, {\"Year\": 1988, \"Measure\": \"3 Year Rolling Average\", \"Val\": 221.0}, {\"Year\": 1989, \"Measure\": \"3 Year Rolling Average\", \"Val\": 160.33333333333334}, {\"Year\": 1990, \"Measure\": \"3 Year Rolling Average\", \"Val\": 192.33333333333334}, {\"Year\": 1991, \"Measure\": \"3 Year Rolling Average\", \"Val\": 120.0}, {\"Year\": 1992, \"Measure\": \"3 Year Rolling Average\", \"Val\": 209.0}, {\"Year\": 1993, \"Measure\": \"3 Year Rolling Average\", \"Val\": 263.3333333333333}, {\"Year\": 1994, \"Measure\": \"3 Year Rolling Average\", \"Val\": 304.3333333333333}, {\"Year\": 1995, \"Measure\": \"3 Year Rolling Average\", \"Val\": 304.3333333333333}, {\"Year\": 1996, \"Measure\": \"3 Year Rolling Average\", \"Val\": 238.33333333333334}, {\"Year\": 1997, \"Measure\": \"3 Year Rolling Average\", \"Val\": 308.3333333333333}, {\"Year\": 1998, \"Measure\": \"3 Year Rolling Average\", \"Val\": 283.6666666666667}, {\"Year\": 1999, \"Measure\": \"3 Year Rolling Average\", \"Val\": 402.3333333333333}, {\"Year\": 2000, \"Measure\": \"3 Year Rolling Average\", \"Val\": 340.0}, {\"Year\": 2001, \"Measure\": \"3 Year Rolling Average\", \"Val\": 407.6666666666667}, {\"Year\": 2002, \"Measure\": \"3 Year Rolling Average\", \"Val\": 401.0}, {\"Year\": 2003, \"Measure\": \"3 Year Rolling Average\", \"Val\": 300.6666666666667}, {\"Year\": 2004, \"Measure\": \"3 Year Rolling Average\", \"Val\": 292.3333333333333}, {\"Year\": 2005, \"Measure\": \"3 Year Rolling Average\", \"Val\": 240.0}, {\"Year\": 2006, \"Measure\": \"3 Year Rolling Average\", \"Val\": 230.33333333333334}, {\"Year\": 2007, \"Measure\": \"3 Year Rolling Average\", \"Val\": 111.66666666666667}, {\"Year\": 2008, \"Measure\": \"3 Year Rolling Average\", \"Val\": 37.666666666666664}, {\"Year\": 2009, \"Measure\": \"3 Year Rolling Average\", \"Val\": 110.66666666666667}, {\"Year\": 2010, \"Measure\": \"3 Year Rolling Average\", \"Val\": 163.33333333333334}, {\"Year\": 2011, \"Measure\": \"3 Year Rolling Average\", \"Val\": 175.33333333333334}, {\"Year\": 2012, \"Measure\": \"3 Year Rolling Average\", \"Val\": 158.66666666666666}, {\"Year\": 2013, \"Measure\": \"3 Year Rolling Average\", \"Val\": 185.0}, {\"Year\": 2014, \"Measure\": \"3 Year Rolling Average\", \"Val\": 306.0}, {\"Year\": 2015, \"Measure\": \"3 Year Rolling Average\", \"Val\": 263.0}, {\"Year\": 2016, \"Measure\": \"3 Year Rolling Average\", \"Val\": 258.0}, {\"Year\": 2017, \"Measure\": \"3 Year Rolling Average\", \"Val\": 123.66666666666667}, {\"Year\": 2018, \"Measure\": \"3 Year Rolling Average\", \"Val\": 136.66666666666666}, {\"Year\": 2019, \"Measure\": \"3 Year Rolling Average\", \"Val\": 78.66666666666667}, {\"Year\": 2020, \"Measure\": \"3 Year Rolling Average\", \"Val\": 80.33333333333333}, {\"Year\": 2021, \"Measure\": \"3 Year Rolling Average\", \"Val\": 150.0}, {\"Year\": 2022, \"Measure\": \"3 Year Rolling Average\", \"Val\": 180.66666666666666}, {\"Year\": 2023, \"Measure\": \"3 Year Rolling Average\", \"Val\": 310.6666666666667}, {\"Year\": 1940, \"Measure\": \"3 Year Rolling Average\", \"Val\": NaN}, {\"Year\": 1941, \"Measure\": \"3 Year Rolling Average\", \"Val\": NaN}, {\"Year\": 1942, \"Measure\": \"3 Year Rolling Average\", \"Val\": NaN}, {\"Year\": 1943, \"Measure\": \"3 Year Rolling Average\", \"Val\": NaN}, {\"Year\": 1944, \"Measure\": \"3 Year Rolling Average\", \"Val\": NaN}, {\"Year\": 1945, \"Measure\": \"3 Year Rolling Average\", \"Val\": NaN}, {\"Year\": 1946, \"Measure\": \"3 Year Rolling Average\", \"Val\": NaN}, {\"Year\": 1903, \"Measure\": \"5 Year Rolling Average\", \"Val\": NaN}, {\"Year\": 1904, \"Measure\": \"5 Year Rolling Average\", \"Val\": NaN}, {\"Year\": 1905, \"Measure\": \"5 Year Rolling Average\", \"Val\": NaN}, {\"Year\": 1906, \"Measure\": \"5 Year Rolling Average\", \"Val\": NaN}, {\"Year\": 1907, \"Measure\": \"5 Year Rolling Average\", \"Val\": 3787.0}, {\"Year\": 1908, \"Measure\": \"5 Year Rolling Average\", \"Val\": 1634.8}, {\"Year\": 1909, \"Measure\": \"5 Year Rolling Average\", \"Val\": 0.0}, {\"Year\": 1910, \"Measure\": \"5 Year Rolling Average\", \"Val\": 0.0}, {\"Year\": 1911, \"Measure\": \"5 Year Rolling Average\", \"Val\": 0.0}, {\"Year\": 1912, \"Measure\": \"5 Year Rolling Average\", \"Val\": 0.0}, {\"Year\": 1913, \"Measure\": \"5 Year Rolling Average\", \"Val\": 103.4}, {\"Year\": 1914, \"Measure\": \"5 Year Rolling Average\", \"Val\": 125.4}, {\"Year\": 1919, \"Measure\": \"5 Year Rolling Average\", \"Val\": 1360.2}, {\"Year\": 1920, \"Measure\": \"5 Year Rolling Average\", \"Val\": 2048.4}, {\"Year\": 1921, \"Measure\": \"5 Year Rolling Average\", \"Val\": 2271.6}, {\"Year\": 1922, \"Measure\": \"5 Year Rolling Average\", \"Val\": 2663.2}, {\"Year\": 1923, \"Measure\": \"5 Year Rolling Average\", \"Val\": 3009.4}, {\"Year\": 1924, \"Measure\": \"5 Year Rolling Average\", \"Val\": 2201.8}, {\"Year\": 1925, \"Measure\": \"5 Year Rolling Average\", \"Val\": 2165.6}, {\"Year\": 1926, \"Measure\": \"5 Year Rolling Average\", \"Val\": 2931.4}, {\"Year\": 1927, \"Measure\": \"5 Year Rolling Average\", \"Val\": 3736.6}, {\"Year\": 1928, \"Measure\": \"5 Year Rolling Average\", \"Val\": 3969.8}, {\"Year\": 1929, \"Measure\": \"5 Year Rolling Average\", \"Val\": 4075.2}, {\"Year\": 1930, \"Measure\": \"5 Year Rolling Average\", \"Val\": 3593.8}, {\"Year\": 1931, \"Measure\": \"5 Year Rolling Average\", \"Val\": 2760.0}, {\"Year\": 1932, \"Measure\": \"5 Year Rolling Average\", \"Val\": 1748.4}, {\"Year\": 1933, \"Measure\": \"5 Year Rolling Average\", \"Val\": 1195.2}, {\"Year\": 1934, \"Measure\": \"5 Year Rolling Average\", \"Val\": 992.8}, {\"Year\": 1935, \"Measure\": \"5 Year Rolling Average\", \"Val\": 1036.6}, {\"Year\": 1936, \"Measure\": \"5 Year Rolling Average\", \"Val\": 1204.4}, {\"Year\": 1937, \"Measure\": \"5 Year Rolling Average\", \"Val\": 1003.2}, {\"Year\": 1938, \"Measure\": \"5 Year Rolling Average\", \"Val\": 1176.4}, {\"Year\": 1939, \"Measure\": \"5 Year Rolling Average\", \"Val\": 1213.8}, {\"Year\": 1947, \"Measure\": \"5 Year Rolling Average\", \"Val\": 1047.0}, {\"Year\": 1948, \"Measure\": \"5 Year Rolling Average\", \"Val\": 1046.4}, {\"Year\": 1949, \"Measure\": \"5 Year Rolling Average\", \"Val\": 1090.0}, {\"Year\": 1950, \"Measure\": \"5 Year Rolling Average\", \"Val\": 982.6}, {\"Year\": 1951, \"Measure\": \"5 Year Rolling Average\", \"Val\": 879.0}, {\"Year\": 1952, \"Measure\": \"5 Year Rolling Average\", \"Val\": 1170.8}, {\"Year\": 1953, \"Measure\": \"5 Year Rolling Average\", \"Val\": 1020.0}, {\"Year\": 1954, \"Measure\": \"5 Year Rolling Average\", \"Val\": 1078.8}, {\"Year\": 1955, \"Measure\": \"5 Year Rolling Average\", \"Val\": 1023.4}, {\"Year\": 1956, \"Measure\": \"5 Year Rolling Average\", \"Val\": 776.4}, {\"Year\": 1957, \"Measure\": \"5 Year Rolling Average\", \"Val\": 616.2}, {\"Year\": 1958, \"Measure\": \"5 Year Rolling Average\", \"Val\": 482.6}, {\"Year\": 1959, \"Measure\": \"5 Year Rolling Average\", \"Val\": 341.0}, {\"Year\": 1960, \"Measure\": \"5 Year Rolling Average\", \"Val\": 342.8}, {\"Year\": 1961, \"Measure\": \"5 Year Rolling Average\", \"Val\": 472.6}, {\"Year\": 1962, \"Measure\": \"5 Year Rolling Average\", \"Val\": 353.2}, {\"Year\": 1963, \"Measure\": \"5 Year Rolling Average\", \"Val\": 358.2}, {\"Year\": 1964, \"Measure\": \"5 Year Rolling Average\", \"Val\": 321.0}, {\"Year\": 1965, \"Measure\": \"5 Year Rolling Average\", \"Val\": 292.6}, {\"Year\": 1966, \"Measure\": \"5 Year Rolling Average\", \"Val\": 159.2}, {\"Year\": 1967, \"Measure\": \"5 Year Rolling Average\", \"Val\": 143.4}, {\"Year\": 1968, \"Measure\": \"5 Year Rolling Average\", \"Val\": 108.0}, {\"Year\": 1969, \"Measure\": \"5 Year Rolling Average\", \"Val\": 311.8}, {\"Year\": 1970, \"Measure\": \"5 Year Rolling Average\", \"Val\": 432.0}, {\"Year\": 1971, \"Measure\": \"5 Year Rolling Average\", \"Val\": 536.8}, {\"Year\": 1972, \"Measure\": \"5 Year Rolling Average\", \"Val\": 621.0}, {\"Year\": 1973, \"Measure\": \"5 Year Rolling Average\", \"Val\": 803.6}, {\"Year\": 1974, \"Measure\": \"5 Year Rolling Average\", \"Val\": 685.6}, {\"Year\": 1975, \"Measure\": \"5 Year Rolling Average\", \"Val\": 566.8}, {\"Year\": 1976, \"Measure\": \"5 Year Rolling Average\", \"Val\": 499.4}, {\"Year\": 1977, \"Measure\": \"5 Year Rolling Average\", \"Val\": 380.8}, {\"Year\": 1978, \"Measure\": \"5 Year Rolling Average\", \"Val\": 237.8}, {\"Year\": 1979, \"Measure\": \"5 Year Rolling Average\", \"Val\": 298.4}, {\"Year\": 1980, \"Measure\": \"5 Year Rolling Average\", \"Val\": 348.0}, {\"Year\": 1981, \"Measure\": \"5 Year Rolling Average\", \"Val\": 472.0}, {\"Year\": 1982, \"Measure\": \"5 Year Rolling Average\", \"Val\": 538.6}, {\"Year\": 1983, \"Measure\": \"5 Year Rolling Average\", \"Val\": 540.2}, {\"Year\": 1984, \"Measure\": \"5 Year Rolling Average\", \"Val\": 509.2}, {\"Year\": 1985, \"Measure\": \"5 Year Rolling Average\", \"Val\": 446.6}, {\"Year\": 1986, \"Measure\": \"5 Year Rolling Average\", \"Val\": 309.8}, {\"Year\": 1987, \"Measure\": \"5 Year Rolling Average\", \"Val\": 241.6}, {\"Year\": 1988, \"Measure\": \"5 Year Rolling Average\", \"Val\": 279.4}, {\"Year\": 1989, \"Measure\": \"5 Year Rolling Average\", \"Val\": 154.6}, {\"Year\": 1990, \"Measure\": \"5 Year Rolling Average\", \"Val\": 161.4}, {\"Year\": 1991, \"Measure\": \"5 Year Rolling Average\", \"Val\": 166.6}, {\"Year\": 1992, \"Measure\": \"5 Year Rolling Average\", \"Val\": 213.6}, {\"Year\": 1993, \"Measure\": \"5 Year Rolling Average\", \"Val\": 186.8}, {\"Year\": 1994, \"Measure\": \"5 Year Rolling Average\", \"Val\": 253.0}, {\"Year\": 1995, \"Measure\": \"5 Year Rolling Average\", \"Val\": 280.8}, {\"Year\": 1996, \"Measure\": \"5 Year Rolling Average\", \"Val\": 257.8}, {\"Year\": 1997, \"Measure\": \"5 Year Rolling Average\", \"Val\": 312.6}, {\"Year\": 1998, \"Measure\": \"5 Year Rolling Average\", \"Val\": 293.0}, {\"Year\": 1999, \"Measure\": \"5 Year Rolling Average\", \"Val\": 316.6}, {\"Year\": 2000, \"Measure\": \"5 Year Rolling Average\", \"Val\": 334.0}, {\"Year\": 2001, \"Measure\": \"5 Year Rolling Average\", \"Val\": 394.6}, {\"Year\": 2002, \"Measure\": \"5 Year Rolling Average\", \"Val\": 372.2}, {\"Year\": 2003, \"Measure\": \"5 Year Rolling Average\", \"Val\": 344.2}, {\"Year\": 2004, \"Measure\": \"5 Year Rolling Average\", \"Val\": 328.6}, {\"Year\": 2005, \"Measure\": \"5 Year Rolling Average\", \"Val\": 312.2}, {\"Year\": 2006, \"Measure\": \"5 Year Rolling Average\", \"Val\": 237.8}, {\"Year\": 2007, \"Measure\": \"5 Year Rolling Average\", \"Val\": 155.0}, {\"Year\": 2008, \"Measure\": \"5 Year Rolling Average\", \"Val\": 154.4}, {\"Year\": 2009, \"Measure\": \"5 Year Rolling Average\", \"Val\": 128.8}, {\"Year\": 2010, \"Measure\": \"5 Year Rolling Average\", \"Val\": 109.0}, {\"Year\": 2011, \"Measure\": \"5 Year Rolling Average\", \"Val\": 121.4}, {\"Year\": 2012, \"Measure\": \"5 Year Rolling Average\", \"Val\": 157.0}, {\"Year\": 2013, \"Measure\": \"5 Year Rolling Average\", \"Val\": 197.4}, {\"Year\": 2014, \"Measure\": \"5 Year Rolling Average\", \"Val\": 238.6}, {\"Year\": 2015, \"Measure\": \"5 Year Rolling Average\", \"Val\": 216.8}, {\"Year\": 2016, \"Measure\": \"5 Year Rolling Average\", \"Val\": 247.0}, {\"Year\": 2017, \"Measure\": \"5 Year Rolling Average\", \"Val\": 217.6}, {\"Year\": 2018, \"Measure\": \"5 Year Rolling Average\", \"Val\": 187.8}, {\"Year\": 2019, \"Measure\": \"5 Year Rolling Average\", \"Val\": 110.6}, {\"Year\": 2020, \"Measure\": \"5 Year Rolling Average\", \"Val\": 108.0}, {\"Year\": 2021, \"Measure\": \"5 Year Rolling Average\", \"Val\": 123.0}, {\"Year\": 2022, \"Measure\": \"5 Year Rolling Average\", \"Val\": 144.8}, {\"Year\": 2023, \"Measure\": \"5 Year Rolling Average\", \"Val\": 212.4}, {\"Year\": 1940, \"Measure\": \"5 Year Rolling Average\", \"Val\": NaN}, {\"Year\": 1941, \"Measure\": \"5 Year Rolling Average\", \"Val\": NaN}, {\"Year\": 1942, \"Measure\": \"5 Year Rolling Average\", \"Val\": NaN}, {\"Year\": 1943, \"Measure\": \"5 Year Rolling Average\", \"Val\": NaN}, {\"Year\": 1944, \"Measure\": \"5 Year Rolling Average\", \"Val\": NaN}, {\"Year\": 1945, \"Measure\": \"5 Year Rolling Average\", \"Val\": NaN}, {\"Year\": 1946, \"Measure\": \"5 Year Rolling Average\", \"Val\": NaN}], \"data-d1332f38927d048cb2486196f2f37ab8\": [{\"x1\": 1940, \"x2\": 1947, \"y1\": 0, \"y2\": 11000}]}}, {\"mode\": \"vega-lite\"});\n",
       "</script>"
      ],
      "text/plain": [
       "alt.LayerChart(...)"
      ]
     },
     "execution_count": 79,
     "metadata": {},
     "output_type": "execute_result"
    }
   ],
   "source": [
    "#to do - note for 1989\n",
    "\n",
    "alt.layer(c, ww2_gap).properties(\n",
    "            height = 400, \n",
    "            width = 800, \n",
    "            title = alt.Title('The Tour de France winning time gap has decreased over time', \n",
    "                              fontSize = 25, \n",
    "                              dx = 10)\n",
    "        ).interactive()"
   ]
  },
  {
   "cell_type": "code",
   "execution_count": null,
   "id": "13901e64",
   "metadata": {},
   "outputs": [],
   "source": []
  },
  {
   "cell_type": "code",
   "execution_count": null,
   "id": "b95d68b5",
   "metadata": {},
   "outputs": [],
   "source": []
  },
  {
   "cell_type": "code",
   "execution_count": null,
   "id": "dc08d985",
   "metadata": {},
   "outputs": [],
   "source": []
  }
 ],
 "metadata": {
  "kernelspec": {
   "display_name": "Python 3 (ipykernel)",
   "language": "python",
   "name": "python3"
  },
  "language_info": {
   "codemirror_mode": {
    "name": "ipython",
    "version": 3
   },
   "file_extension": ".py",
   "mimetype": "text/x-python",
   "name": "python",
   "nbconvert_exporter": "python",
   "pygments_lexer": "ipython3",
   "version": "3.11.5"
  }
 },
 "nbformat": 4,
 "nbformat_minor": 5
}
